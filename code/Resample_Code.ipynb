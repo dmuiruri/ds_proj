{
 "cells": [
  {
   "cell_type": "code",
   "execution_count": 193,
   "metadata": {},
   "outputs": [],
   "source": [
    "import pandas as pd \n",
    "import datetime as dt\n",
    "import csv\n",
    "\n",
    "industrial_consumers = pd.read_csv(\"D:\\Study Material\\DS Proejct\\ds_proj-master\\energy_industrial.csv\")\n",
    "\n",
    "#converting 'DateTime' column into datatype Date. \n",
    "industrial_consumers['DateTime'] =  pd.to_datetime(industrial_consumers['DateTime'], format='%Y-%m-%d')\n",
    "#Selecting only Date from DateTime column, leaving the time.\n",
    "industrial_consumers['Date'] = pd.to_datetime(industrial_consumers['DateTime'].dt.date)"
   ]
  },
  {
   "cell_type": "code",
   "execution_count": 194,
   "metadata": {},
   "outputs": [],
   "source": [
    "industrial_consumers['Week'] = industrial_consumers['Date'].apply(lambda x: x.week)\n",
    "industrial_consumers['Month'] = industrial_consumers['Date'].apply(lambda x: x.month)\n",
    "industrial_consumers['Year'] = industrial_consumers['Date'].apply(lambda x: x.year)"
   ]
  },
  {
   "cell_type": "code",
   "execution_count": 195,
   "metadata": {},
   "outputs": [
    {
     "name": "stdout",
     "output_type": "stream",
     "text": [
      "          Date  Demand/Usage\n",
      "0   2017-05-18      60698.16\n",
      "1   2017-05-19      19563.12\n",
      "2   2017-05-20       3745.44\n",
      "3   2017-05-21       4529.52\n",
      "4   2017-05-22      52850.88\n",
      "5   2017-05-23      58942.08\n",
      "6   2017-05-24      56641.68\n",
      "7   2017-05-25      18876.24\n",
      "8   2017-05-26       9480.24\n",
      "9   2017-05-27       3272.40\n",
      "10  2017-05-28       2397.60\n",
      "11  2017-05-29       5132.16\n",
      "12  2017-05-30      51464.16\n",
      "13  2017-05-31      62557.92\n",
      "14  2017-06-01      62946.72\n",
      "15  2017-06-02      20768.40\n",
      "16  2017-06-03       4315.68\n",
      "17  2017-06-04       4736.88\n",
      "18  2017-06-05      48697.20\n",
      "19  2017-06-06      58631.04\n",
      "20  2017-06-07      64450.08\n",
      "21  2017-06-08      20956.32\n",
      "22  2017-06-09      10575.36\n",
      "23  2017-06-10       3278.88\n",
      "24  2017-06-11       4795.20\n",
      "25  2017-06-12      50375.52\n",
      "26  2017-06-13      56155.68\n",
      "27  2017-06-14      60873.12\n",
      "28  2017-06-15      69031.44\n",
      "29  2017-06-16      23418.72\n",
      "..         ...           ...\n",
      "336 2018-04-19      67003.20\n",
      "337 2018-04-20      27676.08\n",
      "338 2018-04-21       4108.32\n",
      "339 2018-04-22       4892.40\n",
      "340 2018-04-23      35361.36\n",
      "341 2018-04-24      42152.40\n",
      "342 2018-04-25      43491.71\n",
      "343 2018-04-26      41802.48\n",
      "344 2018-04-27      41536.80\n",
      "345 2018-04-28      13329.36\n",
      "346 2018-04-29       3486.24\n",
      "347 2018-04-30      30818.88\n",
      "348 2018-05-01      38601.36\n",
      "349 2018-05-02      41050.80\n",
      "350 2018-05-03      43383.60\n",
      "351 2018-05-04      36339.84\n",
      "352 2018-05-05       9726.48\n",
      "353 2018-05-06       8728.56\n",
      "354 2018-05-07      52643.52\n",
      "355 2018-05-08      61747.92\n",
      "356 2018-05-09      61167.80\n",
      "357 2018-05-10      65694.24\n",
      "358 2018-05-11      63426.24\n",
      "359 2018-05-12      16964.64\n",
      "360 2018-05-13       4224.96\n",
      "361 2018-05-14      46643.04\n",
      "362 2018-05-15      61287.84\n",
      "363 2018-05-16      63581.76\n",
      "364 2018-05-17      63218.88\n",
      "365 2018-05-18      17969.04\n",
      "\n",
      "[366 rows x 2 columns]\n"
     ]
    }
   ],
   "source": [
    "#calculating daily consumption \n",
    "daily_consumption = industrial_consumers.groupby('Date')['Demand/Usage'].sum().reset_index()[['Date', 'Demand/Usage']]\n",
    "print(daily_consumption)\n",
    "\n",
    "daily_consumption.to_csv(\"daily_consumption.csv\", sep=\"\\t\")"
   ]
  },
  {
   "cell_type": "code",
   "execution_count": 196,
   "metadata": {},
   "outputs": [
    {
     "name": "stdout",
     "output_type": "stream",
     "text": [
      "    Week  Demand/Usage\n",
      "0      1     170255.52\n",
      "1      2     287912.88\n",
      "2      3     278257.68\n",
      "3      4     224013.60\n",
      "4      5     297613.44\n",
      "5      6     279346.32\n",
      "6      7     238496.40\n",
      "7      8     300160.08\n",
      "8      9     280875.60\n",
      "9     10     276093.36\n",
      "10    11     284860.80\n",
      "11    12     236183.04\n",
      "12    13     237441.70\n",
      "13    14     298825.20\n",
      "14    15     231996.96\n",
      "15    16     282061.44\n",
      "16    17     221160.35\n",
      "17    18     208649.52\n",
      "18    19     325869.32\n",
      "19    20     341236.80\n",
      "20    21     202461.12\n",
      "21    22     211921.92\n",
      "22    23     211384.08\n",
      "23    24     268142.40\n",
      "24    25     220566.24\n",
      "25    26     285858.72\n",
      "26    27      58669.92\n",
      "27    28     259919.28\n",
      "28    29     219438.72\n",
      "29    30     260191.44\n",
      "30    31     213483.60\n",
      "31    32     205565.04\n",
      "32    33     207094.32\n",
      "33    34     259148.16\n",
      "34    35     194212.08\n",
      "35    36     200854.08\n",
      "36    37     254035.44\n",
      "37    38     235275.84\n",
      "38    39     206122.32\n",
      "39    40     270131.76\n",
      "40    41     212699.52\n",
      "41    42     215181.36\n",
      "42    43     279547.20\n",
      "43    44     211753.44\n",
      "44    45     274875.12\n",
      "45    46     219840.48\n",
      "46    47     199221.12\n",
      "47    48     203847.84\n",
      "48    49     210139.92\n",
      "49    50     220566.24\n",
      "50    51     226216.80\n",
      "51    52     187284.96\n"
     ]
    }
   ],
   "source": [
    "\n",
    "weekly_consumption = industrial_consumers.groupby([(industrial_consumers.Week)])['Demand/Usage'].sum().reset_index()[['Week', 'Demand/Usage']]\n",
    "print(weekly_consumption)\n",
    "#one issue which is to be solved: it calculates from week 1 instead of week 20 of 2017 (2017-05-18 is week 20)\n",
    "\n",
    "weekly_consumption.to_csv(\"weekly_consumption.csv\", sep=\"\\t\")"
   ]
  },
  {
   "cell_type": "code",
   "execution_count": 197,
   "metadata": {},
   "outputs": [
    {
     "name": "stdout",
     "output_type": "stream",
     "text": [
      "    Month  Year  Demand/Usage\n",
      "4       5  2017     410151.60\n",
      "6       6  2017    1066744.08\n",
      "7       7  2017     863628.48\n",
      "8       8  2017    1011489.12\n",
      "9       9  2017     906098.40\n",
      "10     10  2017    1092612.24\n",
      "11     11  2017     973477.44\n",
      "12     12  2017     869985.36\n",
      "0       1  2018    1150310.16\n",
      "1       2  2018    1107276.48\n",
      "2       3  2018    1125193.68\n",
      "3       4  2018    1073592.93\n",
      "5       5  2018     756400.52\n"
     ]
    }
   ],
   "source": [
    "#calculating monthly consumption while taking into account both the month and year. Kept May 2017 and May 2018 separate. \n",
    "monthly_consumption=industrial_consumers.groupby([(industrial_consumers.Month),(industrial_consumers.Year)]).sum().reset_index()[['Month','Year', 'Demand/Usage']].sort_values([\"Year\"])\n",
    "print(monthly_consumption)\n",
    "\n",
    "monthly_consumption.to_csv(\"monthly_consumption.csv\", sep=\"\\t\")\n"
   ]
  },
  {
   "cell_type": "code",
   "execution_count": 198,
   "metadata": {},
   "outputs": [
    {
     "data": {
      "image/png": "[encoded data removed]",
      "text/plain": [
       "<Figure size 432x288 with 1 Axes>"
      ]
     },
     "metadata": {
      "needs_background": "light"
     },
     "output_type": "display_data"
    }
   ],
   "source": [
    "import matplotlib.pyplot as plt\n",
    "plt.plot(weekly_consumption)\n",
    "plt.show()"
   ]
  },
  {
   "cell_type": "code",
   "execution_count": 199,
   "metadata": {},
   "outputs": [
    {
     "data": {
      "image/png": "[encoded data removed]",
      "text/plain": [
       "<Figure size 432x288 with 1 Axes>"
      ]
     },
     "metadata": {
      "needs_background": "light"
     },
     "output_type": "display_data"
    }
   ],
   "source": [
    "plt.plot(monthly_consumption)\n",
    "plt.show()"
   ]
  },
  {
   "cell_type": "code",
   "execution_count": 17,
   "metadata": {},
   "outputs": [
    {
     "data": {
      "image/png": "[encoded data removed]",
      "text/plain": [
       "<Figure size 432x288 with 1 Axes>"
      ]
     },
     "metadata": {
      "needs_background": "light"
     },
     "output_type": "display_data"
    }
   ],
   "source": []
  },
  {
   "cell_type": "code",
   "execution_count": null,
   "metadata": {},
   "outputs": [],
   "source": []
  },
  {
   "cell_type": "code",
   "execution_count": null,
   "metadata": {},
   "outputs": [],
   "source": []
  }
 ],
 "metadata": {
  "kernelspec": {
   "display_name": "Python 3",
   "language": "python",
   "name": "python3"
  },
  "language_info": {
   "codemirror_mode": {
    "name": "ipython",
    "version": 3
   },
   "file_extension": ".py",
   "mimetype": "text/x-python",
   "name": "python",
   "nbconvert_exporter": "python",
   "pygments_lexer": "ipython3",
   "version": "3.7.0"
  }
 },
 "nbformat": 4,
 "nbformat_minor": 2
}
